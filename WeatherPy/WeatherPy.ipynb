{
 "cells": [
  {
   "cell_type": "markdown",
   "metadata": {},
   "source": [
    "# WeatherPy\n",
    "----\n",
    "\n",
    "#### Note\n",
    "* Instructions have been included for each segment. You do not have to follow them exactly, but they are included to help you think through the steps."
   ]
  },
  {
   "cell_type": "code",
   "execution_count": 1,
   "metadata": {
    "scrolled": true
   },
   "outputs": [],
   "source": [
    "# Dependencies and Setup\n",
    "import matplotlib.pyplot as plt\n",
    "import pandas as pd\n",
    "import numpy as np\n",
    "import requests\n",
    "import time\n",
    "from scipy.stats import linregress\n",
    "\n",
    "# Import API key\n",
    "from api_keys import weather_api_key\n",
    "\n",
    "# Incorporated citipy to determine city based on latitude and longitude\n",
    "from citipy import citipy\n",
    "\n",
    "# Output File (CSV)\n",
    "output_data_file = \"output_data/cities.csv\"\n",
    "\n",
    "# Range of latitudes and longitudes\n",
    "lat_range = (-90, 90)\n",
    "lng_range = (-180, 180)"
   ]
  },
  {
   "cell_type": "markdown",
   "metadata": {},
   "source": [
    "## Generate Cities List"
   ]
  },
  {
   "cell_type": "code",
   "execution_count": 2,
   "metadata": {},
   "outputs": [
    {
     "data": {
      "text/plain": [
       "634"
      ]
     },
     "execution_count": 2,
     "metadata": {},
     "output_type": "execute_result"
    }
   ],
   "source": [
    "# List for holding lat_lngs and cities\n",
    "lat_lngs = []\n",
    "cities = []\n",
    "\n",
    "# Create a set of random lat and lng combinations\n",
    "lats = np.random.uniform(lat_range[0], lat_range[1], size=1500)\n",
    "lngs = np.random.uniform(lng_range[0], lng_range[1], size=1500)\n",
    "lat_lngs = zip(lats, lngs)\n",
    "\n",
    "# Identify nearest city for each lat, lng combination\n",
    "for lat_lng in lat_lngs:\n",
    "    city = citipy.nearest_city(lat_lng[0], lat_lng[1]).city_name\n",
    "    \n",
    "    # If the city is unique, then add it to a our cities list\n",
    "    if city not in cities:\n",
    "        \n",
    "        cities.append(city)\n",
    "\n",
    "# Print the city count to confirm sufficient count\n",
    "len(cities)"
   ]
  },
  {
   "cell_type": "code",
   "execution_count": 3,
   "metadata": {},
   "outputs": [
    {
     "data": {
      "text/plain": [
       "['broken hill',\n",
       " 'attawapiskat',\n",
       " 'sao filipe',\n",
       " 'portland',\n",
       " 'kaitangata',\n",
       " 'avarua',\n",
       " 'rikitea',\n",
       " 'laja',\n",
       " 'oksfjord',\n",
       " 'ushuaia',\n",
       " 'talcahuano',\n",
       " 'mataura',\n",
       " 'carnarvon',\n",
       " 'northam',\n",
       " 'butaritari',\n",
       " 'puerto ayora',\n",
       " 'pietersburg',\n",
       " 'cherskiy',\n",
       " 'aksarka',\n",
       " 'flinders',\n",
       " 'grand centre',\n",
       " 'vaini',\n",
       " 'jamestown',\n",
       " 'mercedes',\n",
       " 'nikolskoye',\n",
       " 'katherine',\n",
       " 'aklavik',\n",
       " 'hermanus',\n",
       " 'sembe',\n",
       " 'new norfolk',\n",
       " 'haines junction',\n",
       " 'punta arenas',\n",
       " 'samusu',\n",
       " 'illoqqortoormiut',\n",
       " 'georgetown',\n",
       " 'bambous virieux',\n",
       " 'srivardhan',\n",
       " 'tsumeb',\n",
       " 'dom pedro',\n",
       " 'atuona',\n",
       " 'kawalu',\n",
       " 'upernavik',\n",
       " 'barrow',\n",
       " 'chuy',\n",
       " 'drayton valley',\n",
       " 'saint-philippe',\n",
       " 'saint anthony',\n",
       " 'bredasdorp',\n",
       " 'hilo',\n",
       " 'castro',\n",
       " 'ewa beach',\n",
       " 'tasiilaq',\n",
       " 'cape town',\n",
       " 'mahebourg',\n",
       " 'honningsvag',\n",
       " 'pisco',\n",
       " 'suao',\n",
       " 'hanzhong',\n",
       " 'lom sak',\n",
       " 'hobart',\n",
       " 'toliary',\n",
       " 'bluff',\n",
       " 'angoche',\n",
       " 'husavik',\n",
       " 'nemuro',\n",
       " 'buchanan',\n",
       " 'port alfred',\n",
       " 'ketchikan',\n",
       " 'tiznit',\n",
       " 'harper',\n",
       " 'cootehill',\n",
       " 'fare',\n",
       " 'ahipara',\n",
       " 'kapaa',\n",
       " 'golden',\n",
       " 'palabuhanratu',\n",
       " 'veroli',\n",
       " 'springbok',\n",
       " 'harlingen',\n",
       " 'east london',\n",
       " 'yellowknife',\n",
       " 'tawkar',\n",
       " 'pacific grove',\n",
       " 'touros',\n",
       " 'bukachacha',\n",
       " 'nome',\n",
       " 'dikson',\n",
       " 'tuktoyaktuk',\n",
       " 'yenagoa',\n",
       " 'tromso',\n",
       " 'praia',\n",
       " 'muroto',\n",
       " 'lao cai',\n",
       " 'arraial do cabo',\n",
       " 'provideniya',\n",
       " 'ponta do sol',\n",
       " 'lotofaga',\n",
       " 'leningradskiy',\n",
       " 'souillac',\n",
       " 'bairiki',\n",
       " 'cidreira',\n",
       " 'erenhot',\n",
       " 'gainesville',\n",
       " 'sosua',\n",
       " 'kavaratti',\n",
       " 'mursan',\n",
       " 'pevek',\n",
       " 'port lincoln',\n",
       " 'otanche',\n",
       " 'port hedland',\n",
       " 'busselton',\n",
       " 'lebu',\n",
       " 'moranbah',\n",
       " 'thinadhoo',\n",
       " 'luderitz',\n",
       " 'belushya guba',\n",
       " 'gamba',\n",
       " 'lolua',\n",
       " 'brewster',\n",
       " 'bandarbeyla',\n",
       " 'odessa',\n",
       " 'santiago del estero',\n",
       " 'san cristobal',\n",
       " 'esperance',\n",
       " 'sarti',\n",
       " 'stromness',\n",
       " 'botou',\n",
       " 'ilhabela',\n",
       " 'kapit',\n",
       " 'sarab',\n",
       " 'guerrero negro',\n",
       " 'lasa',\n",
       " 'trzebiatow',\n",
       " 'mys shmidta',\n",
       " 'sao joao da barra',\n",
       " 'halifax',\n",
       " 'inhambane',\n",
       " 'lityn',\n",
       " 'albany',\n",
       " 'jacareacanga',\n",
       " 'severo-kurilsk',\n",
       " 'tsihombe',\n",
       " 'asfi',\n",
       " 'miyazu',\n",
       " 'challapata',\n",
       " 'acarau',\n",
       " 'newala',\n",
       " 'prince rupert',\n",
       " 'ambon',\n",
       " 'olhao',\n",
       " 'basco',\n",
       " 'buraydah',\n",
       " 'thompson',\n",
       " 'half moon bay',\n",
       " 'kalabo',\n",
       " 'zhengjiatun',\n",
       " 'kavieng',\n",
       " 'beroroha',\n",
       " 'sisimiut',\n",
       " 'sainte-rose',\n",
       " 'sept-iles',\n",
       " 'narsaq',\n",
       " 'belmonte',\n",
       " 'ust-kuyga',\n",
       " 'cumaribo',\n",
       " 'huasahuasi',\n",
       " 'florianopolis',\n",
       " 'san quintin',\n",
       " 'wuwei',\n",
       " 'lukulu',\n",
       " 'lavrentiya',\n",
       " 'kampong chhnang',\n",
       " 'santiago',\n",
       " 'pangkalanbuun',\n",
       " 'mar del plata',\n",
       " 'padang',\n",
       " 'show low',\n",
       " 'los llanos de aridane',\n",
       " 'berdigestyakh',\n",
       " 'hualmay',\n",
       " 'birjand',\n",
       " 'maputo',\n",
       " 'kathu',\n",
       " 'kitimat',\n",
       " 'bonavista',\n",
       " 'beian',\n",
       " 'okato',\n",
       " 'machaneng',\n",
       " 'maragogi',\n",
       " 'emborion',\n",
       " 'sabak',\n",
       " 'bursol',\n",
       " 'port blair',\n",
       " 'samandag',\n",
       " 'ingham',\n",
       " 'biak',\n",
       " 'jimeta',\n",
       " 'poya',\n",
       " 'ribeira grande',\n",
       " 'khatanga',\n",
       " 'nalut',\n",
       " 'burgos',\n",
       " 'bethel',\n",
       " 'nizhneyansk',\n",
       " 'taolanaro',\n",
       " 'tiksi',\n",
       " 'hithadhoo',\n",
       " 'kodiak',\n",
       " 'clyde river',\n",
       " 'sabang',\n",
       " 'vavozh',\n",
       " 'chokurdakh',\n",
       " 'forio',\n",
       " 'kyabe',\n",
       " 'poros',\n",
       " 'tutoia',\n",
       " 'fortuna',\n",
       " 'villefranche-sur-saone',\n",
       " 'kahului',\n",
       " 'latung',\n",
       " 'longyearbyen',\n",
       " 'rorvik',\n",
       " 'saskylakh',\n",
       " 'brazzaville',\n",
       " 'gombong',\n",
       " 'amderma',\n",
       " 'krasnoyarsk-66',\n",
       " 'mayo',\n",
       " 'bengkulu',\n",
       " 'tidore',\n",
       " 'auki',\n",
       " 'da nang',\n",
       " 'roseville',\n",
       " 'labuhan',\n",
       " 'batsfjord',\n",
       " 'korla',\n",
       " 'port-gentil',\n",
       " 'alofi',\n",
       " 'alta floresta',\n",
       " 'koumac',\n",
       " 'sangar',\n",
       " 'henties bay',\n",
       " 'general roca',\n",
       " 'lebanon',\n",
       " 'coquimbo',\n",
       " 'sylvania',\n",
       " 'muchkapskiy',\n",
       " 'ulladulla',\n",
       " 'berlevag',\n",
       " 'linxi',\n",
       " 'saint george',\n",
       " 'kirakira',\n",
       " 'tumannyy',\n",
       " 'vostok',\n",
       " 'amga',\n",
       " 'doha',\n",
       " 'arman',\n",
       " 'lorengau',\n",
       " 'constantine',\n",
       " 'bestobe',\n",
       " 'antalaha',\n",
       " 'bhongir',\n",
       " 'katsuura',\n",
       " 'magadan',\n",
       " 'mokrousovo',\n",
       " 'khilok',\n",
       " 'ocosingo',\n",
       " 'diego de almagro',\n",
       " 'lively',\n",
       " 'tanout',\n",
       " 'rungata',\n",
       " 'ilulissat',\n",
       " 'balabac',\n",
       " 'aripuana',\n",
       " 'kampot',\n",
       " 'fort nelson',\n",
       " 'macenta',\n",
       " 'cayenne',\n",
       " 'norman wells',\n",
       " 'brae',\n",
       " 'kieta',\n",
       " 'mount gambier',\n",
       " 'sungaipenuh',\n",
       " 'namibe',\n",
       " 'ust-ilimsk',\n",
       " 'victoria',\n",
       " 'ijaki',\n",
       " 'puerto escondido',\n",
       " 'zaysan',\n",
       " 'altay',\n",
       " 'malindi',\n",
       " 'saint-joseph',\n",
       " 'ordzhonikidze',\n",
       " 'epe',\n",
       " 'ambilobe',\n",
       " 'samfya',\n",
       " 'deming',\n",
       " 'geraldton',\n",
       " 'coihaique',\n",
       " 'areia branca',\n",
       " 'puerto asis',\n",
       " 'santa maria',\n",
       " 'bargur',\n",
       " 'yerbogachen',\n",
       " 'hami',\n",
       " 'westport',\n",
       " 'shache',\n",
       " 'caravelas',\n",
       " 'hirara',\n",
       " 'faanui',\n",
       " 'salalah',\n",
       " 'bulgan',\n",
       " 'lompoc',\n",
       " 'casa nova',\n",
       " 'xudat',\n",
       " 'canico',\n",
       " 'kulhudhuffushi',\n",
       " 'rocha',\n",
       " 'rimouski',\n",
       " 'palmer',\n",
       " 'porangatu',\n",
       " 'san ramon',\n",
       " 'cockburn harbour',\n",
       " 'coruripe',\n",
       " 'erdaojiang',\n",
       " 'dunedin',\n",
       " 'luebo',\n",
       " 'vardo',\n",
       " 'encruzilhada',\n",
       " 'abu kamal',\n",
       " 'qaanaaq',\n",
       " 'uruzgan',\n",
       " 'chapais',\n",
       " 'lazaro cardenas',\n",
       " 'inta',\n",
       " 'fallon',\n",
       " 'rio gallegos',\n",
       " 'mehamn',\n",
       " 'kissidougou',\n",
       " 'mwinilunga',\n",
       " 'luena',\n",
       " 'lamar',\n",
       " 'garm',\n",
       " 'ondorhaan',\n",
       " 'lagoa',\n",
       " 'antofagasta',\n",
       " 'ambam',\n",
       " 'egvekinot',\n",
       " 'beloha',\n",
       " 'port elizabeth',\n",
       " 'les cayes',\n",
       " 'tiruvottiyur',\n",
       " 'grand river south east',\n",
       " 'isla mujeres',\n",
       " 'sanandaj',\n",
       " 'rujewa',\n",
       " 'ituni',\n",
       " 'vazante',\n",
       " 'bluefield',\n",
       " 'chekhov',\n",
       " 'goulburn',\n",
       " 'walvis bay',\n",
       " 'tank',\n",
       " 'kamiiso',\n",
       " 'sarakhs',\n",
       " 'kashi',\n",
       " 'ninotsminda',\n",
       " 'okha',\n",
       " 'lucea',\n",
       " 'cervo',\n",
       " 'barguzin',\n",
       " 'batagay',\n",
       " 'kautokeino',\n",
       " 'muros',\n",
       " 'port macquarie',\n",
       " 'punta gorda',\n",
       " 'srednekolymsk',\n",
       " 'mantua',\n",
       " 'fukue',\n",
       " 'torbay',\n",
       " 'taungdwingyi',\n",
       " 'kuche',\n",
       " 'pozo colorado',\n",
       " 'nanortalik',\n",
       " 'sribne',\n",
       " 'meulaboh',\n",
       " 'karamay',\n",
       " 'sakaiminato',\n",
       " 'hasaki',\n",
       " 'khartoum',\n",
       " 'vestmannaeyjar',\n",
       " 'malakal',\n",
       " 'balkhash',\n",
       " 'wangqing',\n",
       " 'jumla',\n",
       " 'cabo san lucas',\n",
       " 'sentyabrskiy',\n",
       " 'helong',\n",
       " 'najran',\n",
       " 'santo antonio do ica',\n",
       " 'bubaque',\n",
       " 'bundaberg',\n",
       " 'ust-omchug',\n",
       " 'terrace',\n",
       " 'loandjili',\n",
       " 'barentsburg',\n",
       " 'cabedelo',\n",
       " 'ruteng',\n",
       " 'chara',\n",
       " 'asau',\n",
       " 'flin flon',\n",
       " 'el dorado',\n",
       " 'hobyo',\n",
       " 'kungurtug',\n",
       " 'hervey bay',\n",
       " 'airai',\n",
       " 'vangaindrano',\n",
       " 'tukrah',\n",
       " 'tikrit',\n",
       " 'belaya gora',\n",
       " 'chiredzi',\n",
       " 'laguna',\n",
       " 'ust-barguzin',\n",
       " 'glenwood springs',\n",
       " 'kafanchan',\n",
       " 'liniere',\n",
       " 'kaniama',\n",
       " 'anadyr',\n",
       " 'talnakh',\n",
       " 'tabiauea',\n",
       " 'ihosy',\n",
       " 'buala',\n",
       " 'san patricio',\n",
       " 'qaqortoq',\n",
       " 'kelo',\n",
       " 'noumea',\n",
       " 'dinar',\n",
       " 'rawson',\n",
       " 'meyungs',\n",
       " 'carutapera',\n",
       " 'heyang',\n",
       " 'maturin',\n",
       " 'saleaula',\n",
       " 'codrington',\n",
       " 'qiqihar',\n",
       " 'north myrtle beach',\n",
       " 'kuala terengganu',\n",
       " 'dinsor',\n",
       " 'tallahassee',\n",
       " 'caconda',\n",
       " 'nabire',\n",
       " 'seesen',\n",
       " 'pingzhuang',\n",
       " 'yenotayevka',\n",
       " 'karratha',\n",
       " 'methoni',\n",
       " 'tautira',\n",
       " 'divo',\n",
       " 'panzhihua',\n",
       " 'muyezerskiy',\n",
       " 'sorvag',\n",
       " 'vaitupu',\n",
       " 'siocon',\n",
       " 'san nicolas',\n",
       " 'grindavik',\n",
       " 'mount isa',\n",
       " 'petropavl',\n",
       " 'novoagansk',\n",
       " 'iqaluit',\n",
       " 'vestbygda',\n",
       " 'jacqueville',\n",
       " 'cleveland',\n",
       " 'villarrobledo',\n",
       " 'linhares',\n",
       " 'la rioja',\n",
       " 'dwarka',\n",
       " 'zyryanskoye',\n",
       " 'malatya',\n",
       " 'bathsheba',\n",
       " 'shimoda',\n",
       " 'pangnirtung',\n",
       " 'khandyga',\n",
       " 'the valley',\n",
       " 'samarai',\n",
       " 'sakaraha',\n",
       " 'umm lajj',\n",
       " 'ukiah',\n",
       " 'saint-pierre',\n",
       " 'mionica',\n",
       " 'shelbyville',\n",
       " 'kruisfontein',\n",
       " 'camacari',\n",
       " 'parabel',\n",
       " 'cap malheureux',\n",
       " 'porto nacional',\n",
       " 'hamilton',\n",
       " 'la union',\n",
       " 'gotsu',\n",
       " 'havoysund',\n",
       " 'dingle',\n",
       " 'nevelsk',\n",
       " 'lakhimpur',\n",
       " 'isangel',\n",
       " 'tabuk',\n",
       " 'ust-kamchatsk',\n",
       " 'umzimvubu',\n",
       " 'nuevo casas grandes',\n",
       " 'prieska',\n",
       " 'kaduqli',\n",
       " 'nokaneng',\n",
       " 'san policarpo',\n",
       " 'orthez',\n",
       " 'tabou',\n",
       " 'edson',\n",
       " 'sur',\n",
       " 'esmeraldas',\n",
       " 'khasan',\n",
       " 'dubovka',\n",
       " 'raga',\n",
       " 'praia da vitoria',\n",
       " 'pishva',\n",
       " 'zalantun',\n",
       " 'libertador general san martin',\n",
       " 'puro',\n",
       " 'timmins',\n",
       " 'daxian',\n",
       " 'krasnouralsk',\n",
       " 'ridgecrest',\n",
       " 'valentin gomez farias',\n",
       " 'pljevlja',\n",
       " 'chirongui',\n",
       " 'semnan',\n",
       " 'sonoita',\n",
       " 'kilindoni',\n",
       " 'reconquista',\n",
       " 'kirkwood',\n",
       " 'sakakah',\n",
       " 'pomabamba',\n",
       " 'jacmel',\n",
       " 'pecos',\n",
       " 'sorong',\n",
       " 'goma',\n",
       " 'verkh-usugli',\n",
       " 'linden',\n",
       " 'atar',\n",
       " 'belyy yar',\n",
       " 'paamiut',\n",
       " 'luganville',\n",
       " 'manacor',\n",
       " 'steenwijk',\n",
       " 'klaksvik',\n",
       " 'mgandu',\n",
       " 'urengoy',\n",
       " 'ormara',\n",
       " 'nguiu',\n",
       " 'uray',\n",
       " 'mukhen',\n",
       " 'totness',\n",
       " 'minatitlan',\n",
       " 'george',\n",
       " 'baishishan',\n",
       " 'adrar',\n",
       " 'ostrovnoy',\n",
       " 'gagino',\n",
       " 'bontang',\n",
       " 'aykhal',\n",
       " 'zwedru',\n",
       " 'oshakati',\n",
       " 'wilmington',\n",
       " 'quatre cocos',\n",
       " 'ilebo',\n",
       " 'nchelenge',\n",
       " 'atambua',\n",
       " 'ardistan',\n",
       " 'birao',\n",
       " 'saryshagan',\n",
       " 'wahran',\n",
       " 'marquette',\n",
       " 'victor harbor',\n",
       " 'tarbert',\n",
       " 'constitucion',\n",
       " 'burica',\n",
       " 'tir pol',\n",
       " 'kambove',\n",
       " 'hofn',\n",
       " 'kenora',\n",
       " 'baruun-urt',\n",
       " 'mirnyy',\n",
       " 'severo-yeniseyskiy',\n",
       " 'brownwood',\n",
       " 'szczytno',\n",
       " 'bilma',\n",
       " 'ksenyevka',\n",
       " 'taywarah',\n",
       " 'sitka',\n",
       " 'cessnock',\n",
       " 'mastic beach',\n",
       " 'inirida',\n",
       " 'atbasar',\n",
       " 'ashland',\n",
       " 'jinji',\n",
       " 'turka',\n",
       " 'boffa',\n",
       " 'celestun',\n",
       " 'xinmin',\n",
       " 'ternate',\n",
       " 'peniche',\n",
       " 'sayyan',\n",
       " 'sheltozero',\n",
       " 'sorland',\n",
       " 'pavilosta',\n",
       " 'doctor pedro p. pena',\n",
       " 'ipora',\n",
       " 'amuntai',\n",
       " 'krasnoselkup',\n",
       " 'vengurla',\n",
       " 'baghramyan',\n",
       " 'muisne',\n",
       " 'bahia honda',\n",
       " 'sumenep',\n",
       " 'le port',\n",
       " 'capoterra',\n",
       " 'blagoveshchenka',\n",
       " 'columbus',\n",
       " 'rabaul',\n",
       " 'bosanska dubica',\n",
       " 'thai nguyen',\n",
       " 'dabwali',\n",
       " 'paucartambo',\n",
       " 'kholmogory',\n",
       " 'veraval',\n",
       " 'umtata',\n",
       " 'magdagachi',\n",
       " 'sulangan']"
      ]
     },
     "execution_count": 3,
     "metadata": {},
     "output_type": "execute_result"
    }
   ],
   "source": [
    "cities"
   ]
  },
  {
   "cell_type": "markdown",
   "metadata": {},
   "source": [
    "### Perform API Calls\n",
    "* Perform a weather check on each city using a series of successive API calls.\n",
    "* Include a print log of each city as it'sbeing processed (with the city number and city name).\n"
   ]
  },
  {
   "cell_type": "code",
   "execution_count": 4,
   "metadata": {},
   "outputs": [],
   "source": [
    "# print(final_url)\n",
    "# response = requests.get(final_url).json()\n",
    "# latitude = response[\"coord\"][\"lat\"]\n",
    "# longitude = response[\"coord\"][\"lon\"]\n",
    "# temperature = response[\"main\"][\"temp\"]\n",
    "# temp_max = response[\"main\"][\"temp_max\"]\n",
    "# wind_speed = response[\"wind\"][\"speed\"]\n",
    "# country = response[\"sys\"][\"country\"]"
   ]
  },
  {
   "cell_type": "code",
   "execution_count": 5,
   "metadata": {},
   "outputs": [],
   "source": [
    "url = \"http://api.openweathermap.org/data/2.5/weather?\"\n",
    "query_url = url + \"appid=\" + weather_api_key + \"&q=\" \n",
    "weather = []\n",
    "city_list = []\n",
    "latitude_list = []\n",
    "longitude_list = []\n",
    "temp_list = []\n",
    "temp_max_list = []\n",
    "wind_speed_list = []\n",
    "country_list = []\n",
    "humidity_list = []\n",
    "cloudiness_list = []\n",
    "for city in cities:\n",
    "#     str(city).replace(' ','')\n",
    "    try:\n",
    "        final_url = query_url+ city\n",
    "        response = requests.get(final_url).json()\n",
    "        latitude = response[\"coord\"][\"lat\"]\n",
    "        longitude = response[\"coord\"][\"lon\"]\n",
    "        temperature = response[\"main\"][\"temp\"]\n",
    "        temp_max = response[\"main\"][\"temp_max\"]\n",
    "        wind_speed = response[\"wind\"][\"speed\"]\n",
    "        country = response[\"sys\"][\"country\"]\n",
    "        humidity = response['main']['humidity']\n",
    "        cloudiness = response['clouds']['all']\n",
    "#         print(response)\n",
    "        city_list.append(city)\n",
    "        latitude_list.append(latitude)\n",
    "        longitude_list.append(longitude)\n",
    "        temp_list.append(temperature)\n",
    "        temp_max_list.append(temp_max)\n",
    "        wind_speed_list.append(wind_speed)\n",
    "        country_list.append(country)\n",
    "        humidity_list.append(humidity)\n",
    "        cloudiness_list.append(cloudiness)\n",
    "    except:\n",
    "#         print('Missing Information')\n",
    "        pass"
   ]
  },
  {
   "cell_type": "code",
   "execution_count": 6,
   "metadata": {},
   "outputs": [
    {
     "data": {
      "text/plain": [
       "582"
      ]
     },
     "execution_count": 6,
     "metadata": {},
     "output_type": "execute_result"
    }
   ],
   "source": [
    "#print(len(city_list))\n",
    "#print(len(latitude_list))\n",
    "len(country_list)"
   ]
  },
  {
   "cell_type": "code",
   "execution_count": 32,
   "metadata": {},
   "outputs": [],
   "source": [
    "df = pd.DataFrame()\n",
    "df['City'] = city_list\n",
    "df['Latitude'] = latitude_list\n",
    "df['Longitude'] = longitude_list\n",
    "df['Temperature'] = temp_list \n",
    "df['Maximum Temperature']= temp_max_list\n",
    "df['Wind Speed'] = wind_speed_list \n",
    "df['Country'] = country_list\n",
    "df['Humidity'] = humidity_list\n",
    "df['Cloudiness'] = cloudiness_list"
   ]
  },
  {
   "cell_type": "code",
   "execution_count": 33,
   "metadata": {},
   "outputs": [
    {
     "data": {
      "text/html": [
       "<div>\n",
       "<style scoped>\n",
       "    .dataframe tbody tr th:only-of-type {\n",
       "        vertical-align: middle;\n",
       "    }\n",
       "\n",
       "    .dataframe tbody tr th {\n",
       "        vertical-align: top;\n",
       "    }\n",
       "\n",
       "    .dataframe thead th {\n",
       "        text-align: right;\n",
       "    }\n",
       "</style>\n",
       "<table border=\"1\" class=\"dataframe\">\n",
       "  <thead>\n",
       "    <tr style=\"text-align: right;\">\n",
       "      <th></th>\n",
       "      <th>City</th>\n",
       "      <th>Latitude</th>\n",
       "      <th>Longitude</th>\n",
       "      <th>Temperature</th>\n",
       "      <th>Maximum Temperature</th>\n",
       "      <th>Wind Speed</th>\n",
       "      <th>Country</th>\n",
       "      <th>Humidity</th>\n",
       "      <th>Cloudiness</th>\n",
       "    </tr>\n",
       "  </thead>\n",
       "  <tbody>\n",
       "    <tr>\n",
       "      <th>0</th>\n",
       "      <td>broken hill</td>\n",
       "      <td>-31.9500</td>\n",
       "      <td>141.4333</td>\n",
       "      <td>308.15</td>\n",
       "      <td>308.15</td>\n",
       "      <td>3.60</td>\n",
       "      <td>AU</td>\n",
       "      <td>16</td>\n",
       "      <td>0</td>\n",
       "    </tr>\n",
       "    <tr>\n",
       "      <th>1</th>\n",
       "      <td>sao filipe</td>\n",
       "      <td>14.8961</td>\n",
       "      <td>-24.4956</td>\n",
       "      <td>294.39</td>\n",
       "      <td>294.39</td>\n",
       "      <td>3.34</td>\n",
       "      <td>CV</td>\n",
       "      <td>75</td>\n",
       "      <td>44</td>\n",
       "    </tr>\n",
       "    <tr>\n",
       "      <th>2</th>\n",
       "      <td>portland</td>\n",
       "      <td>45.5234</td>\n",
       "      <td>-122.6762</td>\n",
       "      <td>274.01</td>\n",
       "      <td>275.37</td>\n",
       "      <td>1.54</td>\n",
       "      <td>US</td>\n",
       "      <td>69</td>\n",
       "      <td>1</td>\n",
       "    </tr>\n",
       "    <tr>\n",
       "      <th>3</th>\n",
       "      <td>kaitangata</td>\n",
       "      <td>-46.2817</td>\n",
       "      <td>169.8464</td>\n",
       "      <td>288.71</td>\n",
       "      <td>288.71</td>\n",
       "      <td>1.79</td>\n",
       "      <td>NZ</td>\n",
       "      <td>66</td>\n",
       "      <td>100</td>\n",
       "    </tr>\n",
       "    <tr>\n",
       "      <th>4</th>\n",
       "      <td>avarua</td>\n",
       "      <td>-21.2078</td>\n",
       "      <td>-159.7750</td>\n",
       "      <td>301.15</td>\n",
       "      <td>301.15</td>\n",
       "      <td>2.06</td>\n",
       "      <td>CK</td>\n",
       "      <td>78</td>\n",
       "      <td>20</td>\n",
       "    </tr>\n",
       "    <tr>\n",
       "      <th>...</th>\n",
       "      <td>...</td>\n",
       "      <td>...</td>\n",
       "      <td>...</td>\n",
       "      <td>...</td>\n",
       "      <td>...</td>\n",
       "      <td>...</td>\n",
       "      <td>...</td>\n",
       "      <td>...</td>\n",
       "      <td>...</td>\n",
       "    </tr>\n",
       "    <tr>\n",
       "      <th>577</th>\n",
       "      <td>kholmogory</td>\n",
       "      <td>64.2229</td>\n",
       "      <td>41.6560</td>\n",
       "      <td>245.15</td>\n",
       "      <td>245.15</td>\n",
       "      <td>1.00</td>\n",
       "      <td>RU</td>\n",
       "      <td>76</td>\n",
       "      <td>20</td>\n",
       "    </tr>\n",
       "    <tr>\n",
       "      <th>578</th>\n",
       "      <td>veraval</td>\n",
       "      <td>20.9000</td>\n",
       "      <td>70.3667</td>\n",
       "      <td>300.15</td>\n",
       "      <td>300.15</td>\n",
       "      <td>1.52</td>\n",
       "      <td>IN</td>\n",
       "      <td>27</td>\n",
       "      <td>83</td>\n",
       "    </tr>\n",
       "    <tr>\n",
       "      <th>579</th>\n",
       "      <td>umtata</td>\n",
       "      <td>-31.5889</td>\n",
       "      <td>28.7844</td>\n",
       "      <td>293.15</td>\n",
       "      <td>293.15</td>\n",
       "      <td>1.54</td>\n",
       "      <td>ZA</td>\n",
       "      <td>94</td>\n",
       "      <td>75</td>\n",
       "    </tr>\n",
       "    <tr>\n",
       "      <th>580</th>\n",
       "      <td>magdagachi</td>\n",
       "      <td>53.4500</td>\n",
       "      <td>125.8000</td>\n",
       "      <td>260.84</td>\n",
       "      <td>260.84</td>\n",
       "      <td>1.12</td>\n",
       "      <td>RU</td>\n",
       "      <td>93</td>\n",
       "      <td>74</td>\n",
       "    </tr>\n",
       "    <tr>\n",
       "      <th>581</th>\n",
       "      <td>sulangan</td>\n",
       "      <td>11.1373</td>\n",
       "      <td>123.7228</td>\n",
       "      <td>301.36</td>\n",
       "      <td>301.36</td>\n",
       "      <td>3.19</td>\n",
       "      <td>PH</td>\n",
       "      <td>77</td>\n",
       "      <td>57</td>\n",
       "    </tr>\n",
       "  </tbody>\n",
       "</table>\n",
       "<p>582 rows × 9 columns</p>\n",
       "</div>"
      ],
      "text/plain": [
       "            City  Latitude  Longitude  Temperature  Maximum Temperature  \\\n",
       "0    broken hill  -31.9500   141.4333       308.15               308.15   \n",
       "1     sao filipe   14.8961   -24.4956       294.39               294.39   \n",
       "2       portland   45.5234  -122.6762       274.01               275.37   \n",
       "3     kaitangata  -46.2817   169.8464       288.71               288.71   \n",
       "4         avarua  -21.2078  -159.7750       301.15               301.15   \n",
       "..           ...       ...        ...          ...                  ...   \n",
       "577   kholmogory   64.2229    41.6560       245.15               245.15   \n",
       "578      veraval   20.9000    70.3667       300.15               300.15   \n",
       "579       umtata  -31.5889    28.7844       293.15               293.15   \n",
       "580   magdagachi   53.4500   125.8000       260.84               260.84   \n",
       "581     sulangan   11.1373   123.7228       301.36               301.36   \n",
       "\n",
       "     Wind Speed Country  Humidity  Cloudiness  \n",
       "0          3.60      AU        16           0  \n",
       "1          3.34      CV        75          44  \n",
       "2          1.54      US        69           1  \n",
       "3          1.79      NZ        66         100  \n",
       "4          2.06      CK        78          20  \n",
       "..          ...     ...       ...         ...  \n",
       "577        1.00      RU        76          20  \n",
       "578        1.52      IN        27          83  \n",
       "579        1.54      ZA        94          75  \n",
       "580        1.12      RU        93          74  \n",
       "581        3.19      PH        77          57  \n",
       "\n",
       "[582 rows x 9 columns]"
      ]
     },
     "execution_count": 33,
     "metadata": {},
     "output_type": "execute_result"
    }
   ],
   "source": [
    "df"
   ]
  },
  {
   "cell_type": "markdown",
   "metadata": {},
   "source": [
    "### Convert Raw Data to DataFrame\n",
    "* Export the city data into a .csv.\n",
    "* Display the DataFrame"
   ]
  },
  {
   "cell_type": "code",
   "execution_count": 97,
   "metadata": {},
   "outputs": [
    {
     "data": {
      "text/html": [
       "<div>\n",
       "<style scoped>\n",
       "    .dataframe tbody tr th:only-of-type {\n",
       "        vertical-align: middle;\n",
       "    }\n",
       "\n",
       "    .dataframe tbody tr th {\n",
       "        vertical-align: top;\n",
       "    }\n",
       "\n",
       "    .dataframe thead th {\n",
       "        text-align: right;\n",
       "    }\n",
       "</style>\n",
       "<table border=\"1\" class=\"dataframe\">\n",
       "  <thead>\n",
       "    <tr style=\"text-align: right;\">\n",
       "      <th></th>\n",
       "      <th>Unnamed: 0</th>\n",
       "      <th>Unnamed: 0.1</th>\n",
       "      <th>City</th>\n",
       "      <th>Latitude</th>\n",
       "      <th>Longitude</th>\n",
       "      <th>Wind Speed</th>\n",
       "      <th>Country</th>\n",
       "      <th>Humidity</th>\n",
       "      <th>Cloudiness</th>\n",
       "      <th>Temperature - F</th>\n",
       "      <th>Max Temperature - F</th>\n",
       "    </tr>\n",
       "  </thead>\n",
       "  <tbody>\n",
       "    <tr>\n",
       "      <th>0</th>\n",
       "      <td>0</td>\n",
       "      <td>0</td>\n",
       "      <td>broken hill</td>\n",
       "      <td>-31.9500</td>\n",
       "      <td>141.4333</td>\n",
       "      <td>3.60</td>\n",
       "      <td>AU</td>\n",
       "      <td>16</td>\n",
       "      <td>0</td>\n",
       "      <td>95.000</td>\n",
       "      <td>95.000</td>\n",
       "    </tr>\n",
       "    <tr>\n",
       "      <th>1</th>\n",
       "      <td>1</td>\n",
       "      <td>1</td>\n",
       "      <td>sao filipe</td>\n",
       "      <td>14.8961</td>\n",
       "      <td>-24.4956</td>\n",
       "      <td>3.34</td>\n",
       "      <td>CV</td>\n",
       "      <td>75</td>\n",
       "      <td>44</td>\n",
       "      <td>70.232</td>\n",
       "      <td>70.232</td>\n",
       "    </tr>\n",
       "    <tr>\n",
       "      <th>2</th>\n",
       "      <td>2</td>\n",
       "      <td>2</td>\n",
       "      <td>portland</td>\n",
       "      <td>45.5234</td>\n",
       "      <td>-122.6762</td>\n",
       "      <td>1.54</td>\n",
       "      <td>US</td>\n",
       "      <td>69</td>\n",
       "      <td>1</td>\n",
       "      <td>33.548</td>\n",
       "      <td>35.996</td>\n",
       "    </tr>\n",
       "    <tr>\n",
       "      <th>3</th>\n",
       "      <td>3</td>\n",
       "      <td>3</td>\n",
       "      <td>kaitangata</td>\n",
       "      <td>-46.2817</td>\n",
       "      <td>169.8464</td>\n",
       "      <td>1.79</td>\n",
       "      <td>NZ</td>\n",
       "      <td>66</td>\n",
       "      <td>100</td>\n",
       "      <td>60.008</td>\n",
       "      <td>60.008</td>\n",
       "    </tr>\n",
       "    <tr>\n",
       "      <th>4</th>\n",
       "      <td>4</td>\n",
       "      <td>4</td>\n",
       "      <td>avarua</td>\n",
       "      <td>-21.2078</td>\n",
       "      <td>-159.7750</td>\n",
       "      <td>2.06</td>\n",
       "      <td>CK</td>\n",
       "      <td>78</td>\n",
       "      <td>20</td>\n",
       "      <td>82.400</td>\n",
       "      <td>82.400</td>\n",
       "    </tr>\n",
       "    <tr>\n",
       "      <th>...</th>\n",
       "      <td>...</td>\n",
       "      <td>...</td>\n",
       "      <td>...</td>\n",
       "      <td>...</td>\n",
       "      <td>...</td>\n",
       "      <td>...</td>\n",
       "      <td>...</td>\n",
       "      <td>...</td>\n",
       "      <td>...</td>\n",
       "      <td>...</td>\n",
       "      <td>...</td>\n",
       "    </tr>\n",
       "    <tr>\n",
       "      <th>577</th>\n",
       "      <td>577</td>\n",
       "      <td>577</td>\n",
       "      <td>kholmogory</td>\n",
       "      <td>64.2229</td>\n",
       "      <td>41.6560</td>\n",
       "      <td>1.00</td>\n",
       "      <td>RU</td>\n",
       "      <td>76</td>\n",
       "      <td>20</td>\n",
       "      <td>-18.400</td>\n",
       "      <td>-18.400</td>\n",
       "    </tr>\n",
       "    <tr>\n",
       "      <th>578</th>\n",
       "      <td>578</td>\n",
       "      <td>578</td>\n",
       "      <td>veraval</td>\n",
       "      <td>20.9000</td>\n",
       "      <td>70.3667</td>\n",
       "      <td>1.52</td>\n",
       "      <td>IN</td>\n",
       "      <td>27</td>\n",
       "      <td>83</td>\n",
       "      <td>80.600</td>\n",
       "      <td>80.600</td>\n",
       "    </tr>\n",
       "    <tr>\n",
       "      <th>579</th>\n",
       "      <td>579</td>\n",
       "      <td>579</td>\n",
       "      <td>umtata</td>\n",
       "      <td>-31.5889</td>\n",
       "      <td>28.7844</td>\n",
       "      <td>1.54</td>\n",
       "      <td>ZA</td>\n",
       "      <td>94</td>\n",
       "      <td>75</td>\n",
       "      <td>68.000</td>\n",
       "      <td>68.000</td>\n",
       "    </tr>\n",
       "    <tr>\n",
       "      <th>580</th>\n",
       "      <td>580</td>\n",
       "      <td>580</td>\n",
       "      <td>magdagachi</td>\n",
       "      <td>53.4500</td>\n",
       "      <td>125.8000</td>\n",
       "      <td>1.12</td>\n",
       "      <td>RU</td>\n",
       "      <td>93</td>\n",
       "      <td>74</td>\n",
       "      <td>9.842</td>\n",
       "      <td>9.842</td>\n",
       "    </tr>\n",
       "    <tr>\n",
       "      <th>581</th>\n",
       "      <td>581</td>\n",
       "      <td>581</td>\n",
       "      <td>sulangan</td>\n",
       "      <td>11.1373</td>\n",
       "      <td>123.7228</td>\n",
       "      <td>3.19</td>\n",
       "      <td>PH</td>\n",
       "      <td>77</td>\n",
       "      <td>57</td>\n",
       "      <td>82.778</td>\n",
       "      <td>82.778</td>\n",
       "    </tr>\n",
       "  </tbody>\n",
       "</table>\n",
       "<p>582 rows × 11 columns</p>\n",
       "</div>"
      ],
      "text/plain": [
       "     Unnamed: 0  Unnamed: 0.1         City  Latitude  Longitude  Wind Speed  \\\n",
       "0             0             0  broken hill  -31.9500   141.4333        3.60   \n",
       "1             1             1   sao filipe   14.8961   -24.4956        3.34   \n",
       "2             2             2     portland   45.5234  -122.6762        1.54   \n",
       "3             3             3   kaitangata  -46.2817   169.8464        1.79   \n",
       "4             4             4       avarua  -21.2078  -159.7750        2.06   \n",
       "..          ...           ...          ...       ...        ...         ...   \n",
       "577         577           577   kholmogory   64.2229    41.6560        1.00   \n",
       "578         578           578      veraval   20.9000    70.3667        1.52   \n",
       "579         579           579       umtata  -31.5889    28.7844        1.54   \n",
       "580         580           580   magdagachi   53.4500   125.8000        1.12   \n",
       "581         581           581     sulangan   11.1373   123.7228        3.19   \n",
       "\n",
       "    Country  Humidity  Cloudiness  Temperature - F  Max Temperature - F  \n",
       "0        AU        16           0           95.000               95.000  \n",
       "1        CV        75          44           70.232               70.232  \n",
       "2        US        69           1           33.548               35.996  \n",
       "3        NZ        66         100           60.008               60.008  \n",
       "4        CK        78          20           82.400               82.400  \n",
       "..      ...       ...         ...              ...                  ...  \n",
       "577      RU        76          20          -18.400              -18.400  \n",
       "578      IN        27          83           80.600               80.600  \n",
       "579      ZA        94          75           68.000               68.000  \n",
       "580      RU        93          74            9.842                9.842  \n",
       "581      PH        77          57           82.778               82.778  \n",
       "\n",
       "[582 rows x 11 columns]"
      ]
     },
     "execution_count": 97,
     "metadata": {},
     "output_type": "execute_result"
    }
   ],
   "source": [
    "df.to_csv(r'/Users/monicabustillos/Documents/python-api-challenge/WeatherPy/cityinfo.csv')\n",
    "df = pd.read_csv('cityinfo.csv')\n",
    "df"
   ]
  },
  {
   "cell_type": "code",
   "execution_count": 100,
   "metadata": {},
   "outputs": [
    {
     "data": {
      "text/html": [
       "<div>\n",
       "<style scoped>\n",
       "    .dataframe tbody tr th:only-of-type {\n",
       "        vertical-align: middle;\n",
       "    }\n",
       "\n",
       "    .dataframe tbody tr th {\n",
       "        vertical-align: top;\n",
       "    }\n",
       "\n",
       "    .dataframe thead th {\n",
       "        text-align: right;\n",
       "    }\n",
       "</style>\n",
       "<table border=\"1\" class=\"dataframe\">\n",
       "  <thead>\n",
       "    <tr style=\"text-align: right;\">\n",
       "      <th></th>\n",
       "      <th>Unnamed: 0</th>\n",
       "      <th>Unnamed: 0.1</th>\n",
       "      <th>City</th>\n",
       "      <th>Latitude</th>\n",
       "      <th>Longitude</th>\n",
       "      <th>Wind Speed</th>\n",
       "      <th>Country</th>\n",
       "      <th>Humidity</th>\n",
       "      <th>Cloudiness</th>\n",
       "      <th>Temperature - F</th>\n",
       "      <th>Max Temperature - F</th>\n",
       "    </tr>\n",
       "  </thead>\n",
       "  <tbody>\n",
       "    <tr>\n",
       "      <th>0</th>\n",
       "      <td>0</td>\n",
       "      <td>0</td>\n",
       "      <td>broken hill</td>\n",
       "      <td>-31.9500</td>\n",
       "      <td>141.4333</td>\n",
       "      <td>3.60</td>\n",
       "      <td>AU</td>\n",
       "      <td>16</td>\n",
       "      <td>0</td>\n",
       "      <td>95.000</td>\n",
       "      <td>95.000</td>\n",
       "    </tr>\n",
       "    <tr>\n",
       "      <th>1</th>\n",
       "      <td>1</td>\n",
       "      <td>1</td>\n",
       "      <td>sao filipe</td>\n",
       "      <td>14.8961</td>\n",
       "      <td>-24.4956</td>\n",
       "      <td>3.34</td>\n",
       "      <td>CV</td>\n",
       "      <td>75</td>\n",
       "      <td>44</td>\n",
       "      <td>70.232</td>\n",
       "      <td>70.232</td>\n",
       "    </tr>\n",
       "    <tr>\n",
       "      <th>2</th>\n",
       "      <td>2</td>\n",
       "      <td>2</td>\n",
       "      <td>portland</td>\n",
       "      <td>45.5234</td>\n",
       "      <td>-122.6762</td>\n",
       "      <td>1.54</td>\n",
       "      <td>US</td>\n",
       "      <td>69</td>\n",
       "      <td>1</td>\n",
       "      <td>33.548</td>\n",
       "      <td>35.996</td>\n",
       "    </tr>\n",
       "    <tr>\n",
       "      <th>3</th>\n",
       "      <td>3</td>\n",
       "      <td>3</td>\n",
       "      <td>kaitangata</td>\n",
       "      <td>-46.2817</td>\n",
       "      <td>169.8464</td>\n",
       "      <td>1.79</td>\n",
       "      <td>NZ</td>\n",
       "      <td>66</td>\n",
       "      <td>100</td>\n",
       "      <td>60.008</td>\n",
       "      <td>60.008</td>\n",
       "    </tr>\n",
       "    <tr>\n",
       "      <th>4</th>\n",
       "      <td>4</td>\n",
       "      <td>4</td>\n",
       "      <td>avarua</td>\n",
       "      <td>-21.2078</td>\n",
       "      <td>-159.7750</td>\n",
       "      <td>2.06</td>\n",
       "      <td>CK</td>\n",
       "      <td>78</td>\n",
       "      <td>20</td>\n",
       "      <td>82.400</td>\n",
       "      <td>82.400</td>\n",
       "    </tr>\n",
       "    <tr>\n",
       "      <th>...</th>\n",
       "      <td>...</td>\n",
       "      <td>...</td>\n",
       "      <td>...</td>\n",
       "      <td>...</td>\n",
       "      <td>...</td>\n",
       "      <td>...</td>\n",
       "      <td>...</td>\n",
       "      <td>...</td>\n",
       "      <td>...</td>\n",
       "      <td>...</td>\n",
       "      <td>...</td>\n",
       "    </tr>\n",
       "    <tr>\n",
       "      <th>577</th>\n",
       "      <td>577</td>\n",
       "      <td>577</td>\n",
       "      <td>kholmogory</td>\n",
       "      <td>64.2229</td>\n",
       "      <td>41.6560</td>\n",
       "      <td>1.00</td>\n",
       "      <td>RU</td>\n",
       "      <td>76</td>\n",
       "      <td>20</td>\n",
       "      <td>-18.400</td>\n",
       "      <td>-18.400</td>\n",
       "    </tr>\n",
       "    <tr>\n",
       "      <th>578</th>\n",
       "      <td>578</td>\n",
       "      <td>578</td>\n",
       "      <td>veraval</td>\n",
       "      <td>20.9000</td>\n",
       "      <td>70.3667</td>\n",
       "      <td>1.52</td>\n",
       "      <td>IN</td>\n",
       "      <td>27</td>\n",
       "      <td>83</td>\n",
       "      <td>80.600</td>\n",
       "      <td>80.600</td>\n",
       "    </tr>\n",
       "    <tr>\n",
       "      <th>579</th>\n",
       "      <td>579</td>\n",
       "      <td>579</td>\n",
       "      <td>umtata</td>\n",
       "      <td>-31.5889</td>\n",
       "      <td>28.7844</td>\n",
       "      <td>1.54</td>\n",
       "      <td>ZA</td>\n",
       "      <td>94</td>\n",
       "      <td>75</td>\n",
       "      <td>68.000</td>\n",
       "      <td>68.000</td>\n",
       "    </tr>\n",
       "    <tr>\n",
       "      <th>580</th>\n",
       "      <td>580</td>\n",
       "      <td>580</td>\n",
       "      <td>magdagachi</td>\n",
       "      <td>53.4500</td>\n",
       "      <td>125.8000</td>\n",
       "      <td>1.12</td>\n",
       "      <td>RU</td>\n",
       "      <td>93</td>\n",
       "      <td>74</td>\n",
       "      <td>9.842</td>\n",
       "      <td>9.842</td>\n",
       "    </tr>\n",
       "    <tr>\n",
       "      <th>581</th>\n",
       "      <td>581</td>\n",
       "      <td>581</td>\n",
       "      <td>sulangan</td>\n",
       "      <td>11.1373</td>\n",
       "      <td>123.7228</td>\n",
       "      <td>3.19</td>\n",
       "      <td>PH</td>\n",
       "      <td>77</td>\n",
       "      <td>57</td>\n",
       "      <td>82.778</td>\n",
       "      <td>82.778</td>\n",
       "    </tr>\n",
       "  </tbody>\n",
       "</table>\n",
       "<p>582 rows × 11 columns</p>\n",
       "</div>"
      ],
      "text/plain": [
       "     Unnamed: 0  Unnamed: 0.1         City  Latitude  Longitude  Wind Speed  \\\n",
       "0             0             0  broken hill  -31.9500   141.4333        3.60   \n",
       "1             1             1   sao filipe   14.8961   -24.4956        3.34   \n",
       "2             2             2     portland   45.5234  -122.6762        1.54   \n",
       "3             3             3   kaitangata  -46.2817   169.8464        1.79   \n",
       "4             4             4       avarua  -21.2078  -159.7750        2.06   \n",
       "..          ...           ...          ...       ...        ...         ...   \n",
       "577         577           577   kholmogory   64.2229    41.6560        1.00   \n",
       "578         578           578      veraval   20.9000    70.3667        1.52   \n",
       "579         579           579       umtata  -31.5889    28.7844        1.54   \n",
       "580         580           580   magdagachi   53.4500   125.8000        1.12   \n",
       "581         581           581     sulangan   11.1373   123.7228        3.19   \n",
       "\n",
       "    Country  Humidity  Cloudiness  Temperature - F  Max Temperature - F  \n",
       "0        AU        16           0           95.000               95.000  \n",
       "1        CV        75          44           70.232               70.232  \n",
       "2        US        69           1           33.548               35.996  \n",
       "3        NZ        66         100           60.008               60.008  \n",
       "4        CK        78          20           82.400               82.400  \n",
       "..      ...       ...         ...              ...                  ...  \n",
       "577      RU        76          20          -18.400              -18.400  \n",
       "578      IN        27          83           80.600               80.600  \n",
       "579      ZA        94          75           68.000               68.000  \n",
       "580      RU        93          74            9.842                9.842  \n",
       "581      PH        77          57           82.778               82.778  \n",
       "\n",
       "[582 rows x 11 columns]"
      ]
     },
     "execution_count": 100,
     "metadata": {},
     "output_type": "execute_result"
    }
   ],
   "source": [
    "# df['Temperature - F'] = ((df['Temperature']) - 273.15) * 9/5 + 32 \n",
    "df\n",
    "# df['Max Temperature - F'] = ((df['Maximum Temperature']) - 273.15) * 9/5 + 32 \n",
    "# df =df.drop(column=[4,5])\n",
    "df"
   ]
  },
  {
   "cell_type": "code",
   "execution_count": null,
   "metadata": {},
   "outputs": [],
   "source": []
  },
  {
   "cell_type": "markdown",
   "metadata": {},
   "source": [
    "## Inspect the data and remove the cities where the humidity > 100%.\n",
    "----\n",
    "Skip this step if there are no cities that have humidity > 100%. "
   ]
  },
  {
   "cell_type": "code",
   "execution_count": 36,
   "metadata": {},
   "outputs": [
    {
     "data": {
      "text/plain": [
       "count    582.000000\n",
       "mean      75.003436\n",
       "std       20.311600\n",
       "min       15.000000\n",
       "25%       66.250000\n",
       "50%       81.000000\n",
       "75%       90.000000\n",
       "max      100.000000\n",
       "Name: Humidity, dtype: float64"
      ]
     },
     "execution_count": 36,
     "metadata": {},
     "output_type": "execute_result"
    }
   ],
   "source": [
    "df['Humidity'].describe()"
   ]
  },
  {
   "cell_type": "code",
   "execution_count": 37,
   "metadata": {},
   "outputs": [],
   "source": [
    "#  Get the indices of cities that have humidity over 100%.\n"
   ]
  },
  {
   "cell_type": "code",
   "execution_count": 38,
   "metadata": {},
   "outputs": [],
   "source": [
    "# Make a new DataFrame equal to the city data to drop all humidity outliers by index.\n",
    "# Passing \"inplace=False\" will make a copy of the city_data DataFrame, which we call \"clean_city_data\".\n"
   ]
  },
  {
   "cell_type": "markdown",
   "metadata": {},
   "source": [
    "## Plotting the Data\n",
    "* Use proper labeling of the plots using plot titles (including date of analysis) and axes labels.\n",
    "* Save the plotted figures as .pngs."
   ]
  },
  {
   "cell_type": "markdown",
   "metadata": {},
   "source": [
    "## Latitude vs. Temperature Plot"
   ]
  },
  {
   "cell_type": "code",
   "execution_count": 54,
   "metadata": {
    "scrolled": true
   },
   "outputs": [
    {
     "data": {
      "text/plain": [
       "count    582.000000\n",
       "mean      50.199021\n",
       "std       31.739666\n",
       "min      -41.800000\n",
       "25%       27.288500\n",
       "50%       60.647000\n",
       "75%       75.200000\n",
       "max       98.618000\n",
       "Name: Max Temperature - F, dtype: float64"
      ]
     },
     "execution_count": 54,
     "metadata": {},
     "output_type": "execute_result"
    }
   ],
   "source": [
    "lat_data = df['Latitude']\n",
    "max_temp_data = df['Max Temperature - F'] \n",
    "max_temp_data.describe()"
   ]
  },
  {
   "cell_type": "code",
   "execution_count": 58,
   "metadata": {},
   "outputs": [
    {
     "data": {
      "text/plain": [
       "<matplotlib.collections.PathCollection at 0x7fd744a34128>"
      ]
     },
     "execution_count": 58,
     "metadata": {},
     "output_type": "execute_result"
    },
    {
     "data": {
      "image/png": "[encoded data removed]",
      "text/plain": [
       "<Figure size 432x288 with 1 Axes>"
      ]
     },
     "metadata": {
      "needs_background": "light"
     },
     "output_type": "display_data"
    }
   ],
   "source": [
    "plt.scatter(x=lat_data,y=max_temp_data)"
   ]
  },
  {
   "cell_type": "code",
   "execution_count": null,
   "metadata": {},
   "outputs": [],
   "source": [
    "# This shows us that the warmest temperatures are near the equator. "
   ]
  },
  {
   "cell_type": "markdown",
   "metadata": {},
   "source": [
    "## Latitude vs. Humidity Plot"
   ]
  },
  {
   "cell_type": "code",
   "execution_count": 44,
   "metadata": {},
   "outputs": [
    {
     "data": {
      "text/plain": [
       "<matplotlib.collections.PathCollection at 0x7fd7207761d0>"
      ]
     },
     "execution_count": 44,
     "metadata": {},
     "output_type": "execute_result"
    },
    {
     "data": {
      "image/png": "[encoded data removed]",
      "text/plain": [
       "<Figure size 432x288 with 1 Axes>"
      ]
     },
     "metadata": {
      "needs_background": "light"
     },
     "output_type": "display_data"
    }
   ],
   "source": [
    "hum_data = df['Humidity']\n",
    "plt.scatter(x=lat_data,y=hum_data)"
   ]
  },
  {
   "cell_type": "code",
   "execution_count": null,
   "metadata": {},
   "outputs": [],
   "source": [
    "# It is tough to tell here if there is any kind of trend. The data is very scattered. "
   ]
  },
  {
   "cell_type": "markdown",
   "metadata": {},
   "source": [
    "## Latitude vs. Cloudiness Plot"
   ]
  },
  {
   "cell_type": "code",
   "execution_count": 45,
   "metadata": {},
   "outputs": [
    {
     "data": {
      "text/plain": [
       "<matplotlib.collections.PathCollection at 0x7fd744448828>"
      ]
     },
     "execution_count": 45,
     "metadata": {},
     "output_type": "execute_result"
    },
    {
     "data": {
      "image/png": "[encoded data removed]",
      "text/plain": [
       "<Figure size 432x288 with 1 Axes>"
      ]
     },
     "metadata": {
      "needs_background": "light"
     },
     "output_type": "display_data"
    }
   ],
   "source": [
    "cloud_data = df['Cloudiness']\n",
    "plt.scatter(x=lat_data,y=cloud_data)"
   ]
  },
  {
   "cell_type": "code",
   "execution_count": null,
   "metadata": {},
   "outputs": [],
   "source": [
    "#  Same as above. This data is scattered and theres not an observable trend."
   ]
  },
  {
   "cell_type": "markdown",
   "metadata": {},
   "source": [
    "## Latitude vs. Wind Speed Plot"
   ]
  },
  {
   "cell_type": "code",
   "execution_count": null,
   "metadata": {},
   "outputs": [],
   "source": [
    "wind_speed_data = df['Wind Speed']\n",
    "plt.scatter(x=lat_data,y=wind_speed_data)"
   ]
  },
  {
   "cell_type": "markdown",
   "metadata": {},
   "source": [
    "## Linear Regression"
   ]
  },
  {
   "cell_type": "code",
   "execution_count": 47,
   "metadata": {},
   "outputs": [
    {
     "data": {
      "text/html": [
       "<div>\n",
       "<style scoped>\n",
       "    .dataframe tbody tr th:only-of-type {\n",
       "        vertical-align: middle;\n",
       "    }\n",
       "\n",
       "    .dataframe tbody tr th {\n",
       "        vertical-align: top;\n",
       "    }\n",
       "\n",
       "    .dataframe thead th {\n",
       "        text-align: right;\n",
       "    }\n",
       "</style>\n",
       "<table border=\"1\" class=\"dataframe\">\n",
       "  <thead>\n",
       "    <tr style=\"text-align: right;\">\n",
       "      <th></th>\n",
       "      <th>City</th>\n",
       "      <th>Latitude</th>\n",
       "      <th>Longitude</th>\n",
       "      <th>Temperature</th>\n",
       "      <th>Maximum Temperature</th>\n",
       "      <th>Wind Speed</th>\n",
       "      <th>Country</th>\n",
       "      <th>Humidity</th>\n",
       "      <th>Cloudiness</th>\n",
       "      <th>Temperature - F</th>\n",
       "      <th>Max Temperature - F</th>\n",
       "    </tr>\n",
       "  </thead>\n",
       "  <tbody>\n",
       "    <tr>\n",
       "      <th>0</th>\n",
       "      <td>broken hill</td>\n",
       "      <td>-31.9500</td>\n",
       "      <td>141.4333</td>\n",
       "      <td>308.15</td>\n",
       "      <td>308.15</td>\n",
       "      <td>3.60</td>\n",
       "      <td>AU</td>\n",
       "      <td>16</td>\n",
       "      <td>0</td>\n",
       "      <td>95.000</td>\n",
       "      <td>95.000</td>\n",
       "    </tr>\n",
       "    <tr>\n",
       "      <th>1</th>\n",
       "      <td>sao filipe</td>\n",
       "      <td>14.8961</td>\n",
       "      <td>-24.4956</td>\n",
       "      <td>294.39</td>\n",
       "      <td>294.39</td>\n",
       "      <td>3.34</td>\n",
       "      <td>CV</td>\n",
       "      <td>75</td>\n",
       "      <td>44</td>\n",
       "      <td>70.232</td>\n",
       "      <td>70.232</td>\n",
       "    </tr>\n",
       "    <tr>\n",
       "      <th>2</th>\n",
       "      <td>portland</td>\n",
       "      <td>45.5234</td>\n",
       "      <td>-122.6762</td>\n",
       "      <td>274.01</td>\n",
       "      <td>275.37</td>\n",
       "      <td>1.54</td>\n",
       "      <td>US</td>\n",
       "      <td>69</td>\n",
       "      <td>1</td>\n",
       "      <td>33.548</td>\n",
       "      <td>35.996</td>\n",
       "    </tr>\n",
       "    <tr>\n",
       "      <th>3</th>\n",
       "      <td>kaitangata</td>\n",
       "      <td>-46.2817</td>\n",
       "      <td>169.8464</td>\n",
       "      <td>288.71</td>\n",
       "      <td>288.71</td>\n",
       "      <td>1.79</td>\n",
       "      <td>NZ</td>\n",
       "      <td>66</td>\n",
       "      <td>100</td>\n",
       "      <td>60.008</td>\n",
       "      <td>60.008</td>\n",
       "    </tr>\n",
       "    <tr>\n",
       "      <th>4</th>\n",
       "      <td>avarua</td>\n",
       "      <td>-21.2078</td>\n",
       "      <td>-159.7750</td>\n",
       "      <td>301.15</td>\n",
       "      <td>301.15</td>\n",
       "      <td>2.06</td>\n",
       "      <td>CK</td>\n",
       "      <td>78</td>\n",
       "      <td>20</td>\n",
       "      <td>82.400</td>\n",
       "      <td>82.400</td>\n",
       "    </tr>\n",
       "  </tbody>\n",
       "</table>\n",
       "</div>"
      ],
      "text/plain": [
       "          City  Latitude  Longitude  Temperature  Maximum Temperature  \\\n",
       "0  broken hill  -31.9500   141.4333       308.15               308.15   \n",
       "1   sao filipe   14.8961   -24.4956       294.39               294.39   \n",
       "2     portland   45.5234  -122.6762       274.01               275.37   \n",
       "3   kaitangata  -46.2817   169.8464       288.71               288.71   \n",
       "4       avarua  -21.2078  -159.7750       301.15               301.15   \n",
       "\n",
       "   Wind Speed Country  Humidity  Cloudiness  Temperature - F  \\\n",
       "0        3.60      AU        16           0           95.000   \n",
       "1        3.34      CV        75          44           70.232   \n",
       "2        1.54      US        69           1           33.548   \n",
       "3        1.79      NZ        66         100           60.008   \n",
       "4        2.06      CK        78          20           82.400   \n",
       "\n",
       "   Max Temperature - F  \n",
       "0               95.000  \n",
       "1               70.232  \n",
       "2               35.996  \n",
       "3               60.008  \n",
       "4               82.400  "
      ]
     },
     "execution_count": 47,
     "metadata": {},
     "output_type": "execute_result"
    }
   ],
   "source": [
    "df.head()"
   ]
  },
  {
   "cell_type": "code",
   "execution_count": 77,
   "metadata": {},
   "outputs": [
    {
     "data": {
      "text/plain": [
       "count    392.000000\n",
       "mean      38.904296\n",
       "std       19.967178\n",
       "min        0.133300\n",
       "25%       22.433850\n",
       "50%       39.727750\n",
       "75%       54.133400\n",
       "max       78.218600\n",
       "Name: Latitude, dtype: float64"
      ]
     },
     "execution_count": 77,
     "metadata": {},
     "output_type": "execute_result"
    }
   ],
   "source": [
    "# northern hemisphere\n",
    "north = df.loc[df['Latitude']>0]\n",
    "north_hemi = north['Latitude']\n",
    "# southern hemisphere\n",
    "south = df.loc[df['Latitude']<0]\n",
    "south_hemi = south['Latitude']\n",
    "north_hemi.describe()"
   ]
  },
  {
   "cell_type": "markdown",
   "metadata": {},
   "source": [
    "####  Northern Hemisphere - Max Temp vs. Latitude Linear Regression"
   ]
  },
  {
   "cell_type": "code",
   "execution_count": 78,
   "metadata": {},
   "outputs": [
    {
     "data": {
      "text/plain": [
       "[<matplotlib.lines.Line2D at 0x7fd744d2a278>]"
      ]
     },
     "execution_count": 78,
     "metadata": {},
     "output_type": "execute_result"
    },
    {
     "data": {
      "image/png": "[encoded data removed]",
      "text/plain": [
       "<Figure size 432x288 with 1 Axes>"
      ]
     },
     "metadata": {
      "needs_background": "light"
     },
     "output_type": "display_data"
    }
   ],
   "source": [
    "max_temp_data = north['Max Temperature - F']\n",
    "plt.scatter(x=north_hemi,y=max_temp_data)\n",
    "\n",
    "(slope, intercept, rvalue, pvalue, stderr) = linregress(north_hemi, max_temp_data)\n",
    "regress_values = north_hemi * slope + intercept\n",
    "line_eq = \"y = \" + str(round(slope,2)) + \"x + \" + str(round(intercept,2))\n",
    "plt.plot(north_hemi,regress_values,\"r-\")"
   ]
  },
  {
   "cell_type": "code",
   "execution_count": null,
   "metadata": {},
   "outputs": [],
   "source": [
    "#  The temperatures clearly decrease as you move away from the equator. "
   ]
  },
  {
   "cell_type": "markdown",
   "metadata": {},
   "source": [
    "####  Southern Hemisphere - Max Temp vs. Latitude Linear Regression"
   ]
  },
  {
   "cell_type": "code",
   "execution_count": 81,
   "metadata": {},
   "outputs": [
    {
     "data": {
      "text/plain": [
       "[<matplotlib.lines.Line2D at 0x7fd744e18588>]"
      ]
     },
     "execution_count": 81,
     "metadata": {},
     "output_type": "execute_result"
    },
    {
     "data": {
      "image/png": "[encoded data removed]",
      "text/plain": [
       "<Figure size 432x288 with 1 Axes>"
      ]
     },
     "metadata": {
      "needs_background": "light"
     },
     "output_type": "display_data"
    }
   ],
   "source": [
    "max_temp_data = south['Max Temperature - F']\n",
    "plt.scatter(x=south_hemi,y=max_temp_data)\n",
    "\n",
    "(slope, intercept, rvalue, pvalue, stderr) = linregress(south_hemi, max_temp_data)\n",
    "regress_values = south_hemi * slope + intercept\n",
    "line_eq = \"y = \" + str(round(slope,2)) + \"x + \" + str(round(intercept,2))\n",
    "plt.plot(south_hemi,regress_values,\"r-\")"
   ]
  },
  {
   "cell_type": "code",
   "execution_count": null,
   "metadata": {},
   "outputs": [],
   "source": [
    "# The temperatures increase as we move closer to the equator. However, this slope is not as steep. This means that the northern hemisphere sees a wider range of temperatures. "
   ]
  },
  {
   "cell_type": "markdown",
   "metadata": {},
   "source": [
    "####  Northern Hemisphere - Humidity (%) vs. Latitude Linear Regression"
   ]
  },
  {
   "cell_type": "code",
   "execution_count": 83,
   "metadata": {},
   "outputs": [
    {
     "data": {
      "text/plain": [
       "[<matplotlib.lines.Line2D at 0x7fd7285795c0>]"
      ]
     },
     "execution_count": 83,
     "metadata": {},
     "output_type": "execute_result"
    },
    {
     "data": {
      "image/png": "[encoded data removed]",
      "text/plain": [
       "<Figure size 432x288 with 1 Axes>"
      ]
     },
     "metadata": {
      "needs_background": "light"
     },
     "output_type": "display_data"
    }
   ],
   "source": [
    "humidity_data = north['Humidity']\n",
    "plt.scatter(x=north_hemi,y=humidity_data)\n",
    "\n",
    "(slope, intercept, rvalue, pvalue, stderr) = linregress(north_hemi, humidity_data)\n",
    "regress_values = north_hemi * slope + intercept\n",
    "line_eq = \"y = \" + str(round(slope,2)) + \"x + \" + str(round(intercept,2))\n",
    "plt.plot(north_hemi,regress_values,\"r-\")"
   ]
  },
  {
   "cell_type": "code",
   "execution_count": null,
   "metadata": {},
   "outputs": [],
   "source": [
    "# It is hard to tell what trends there are with humidity and the norther hemisphere. "
   ]
  },
  {
   "cell_type": "markdown",
   "metadata": {},
   "source": [
    "####  Southern Hemisphere - Humidity (%) vs. Latitude Linear Regression"
   ]
  },
  {
   "cell_type": "code",
   "execution_count": 84,
   "metadata": {},
   "outputs": [
    {
     "data": {
      "text/plain": [
       "[<matplotlib.lines.Line2D at 0x7fd7285a7b00>]"
      ]
     },
     "execution_count": 84,
     "metadata": {},
     "output_type": "execute_result"
    },
    {
     "data": {
      "image/png": "[encoded data removed]",
      "text/plain": [
       "<Figure size 432x288 with 1 Axes>"
      ]
     },
     "metadata": {
      "needs_background": "light"
     },
     "output_type": "display_data"
    }
   ],
   "source": [
    "humidity_data = south['Humidity']\n",
    "plt.scatter(x=south_hemi,y=humidity_data)\n",
    "\n",
    "(slope, intercept, rvalue, pvalue, stderr) = linregress(south_hemi, humidity_data)\n",
    "regress_values = south_hemi * slope + intercept\n",
    "line_eq = \"y = \" + str(round(slope,2)) + \"x + \" + str(round(intercept,2))\n",
    "plt.plot(south_hemi,regress_values,\"r-\")"
   ]
  },
  {
   "cell_type": "code",
   "execution_count": null,
   "metadata": {},
   "outputs": [],
   "source": [
    "# Same as above. The trends here are unclear. However, you can tell that a lot of the northern hemisphere experiences humidity over 60. "
   ]
  },
  {
   "cell_type": "markdown",
   "metadata": {},
   "source": [
    "####  Northern Hemisphere - Cloudiness (%) vs. Latitude Linear Regression"
   ]
  },
  {
   "cell_type": "code",
   "execution_count": 85,
   "metadata": {},
   "outputs": [
    {
     "data": {
      "text/plain": [
       "[<matplotlib.lines.Line2D at 0x7fd744f4a5f8>]"
      ]
     },
     "execution_count": 85,
     "metadata": {},
     "output_type": "execute_result"
    },
    {
     "data": {
      "image/png": "[encoded data removed]",
      "text/plain": [
       "<Figure size 432x288 with 1 Axes>"
      ]
     },
     "metadata": {
      "needs_background": "light"
     },
     "output_type": "display_data"
    }
   ],
   "source": [
    "cloudiness_data = north['Cloudiness']\n",
    "plt.scatter(x=north_hemi,y=cloudiness_data)\n",
    "\n",
    "(slope, intercept, rvalue, pvalue, stderr) = linregress(north_hemi, cloudiness_data)\n",
    "regress_values = north_hemi * slope + intercept\n",
    "line_eq = \"y = \" + str(round(slope,2)) + \"x + \" + str(round(intercept,2))\n",
    "plt.plot(north_hemi,regress_values,\"r-\")"
   ]
  },
  {
   "cell_type": "code",
   "execution_count": null,
   "metadata": {},
   "outputs": [],
   "source": [
    "#  No observable trends here. "
   ]
  },
  {
   "cell_type": "markdown",
   "metadata": {},
   "source": [
    "####  Southern Hemisphere - Cloudiness (%) vs. Latitude Linear Regression"
   ]
  },
  {
   "cell_type": "code",
   "execution_count": 86,
   "metadata": {},
   "outputs": [
    {
     "data": {
      "text/plain": [
       "[<matplotlib.lines.Line2D at 0x7fd7310d6400>]"
      ]
     },
     "execution_count": 86,
     "metadata": {},
     "output_type": "execute_result"
    },
    {
     "data": {
      "image/png": "[encoded data removed]",
      "text/plain": [
       "<Figure size 432x288 with 1 Axes>"
      ]
     },
     "metadata": {
      "needs_background": "light"
     },
     "output_type": "display_data"
    }
   ],
   "source": [
    "cloudiness_data = south['Cloudiness']\n",
    "plt.scatter(x=south_hemi,y=cloudiness_data)\n",
    "\n",
    "(slope, intercept, rvalue, pvalue, stderr) = linregress(south_hemi, cloudiness_data)\n",
    "regress_values = south_hemi * slope + intercept\n",
    "line_eq = \"y = \" + str(round(slope,2)) + \"x + \" + str(round(intercept,2))\n",
    "plt.plot(south_hemi,regress_values,\"r-\")"
   ]
  },
  {
   "cell_type": "code",
   "execution_count": null,
   "metadata": {},
   "outputs": [],
   "source": [
    "# This data is very scattered. Location may not affect cloudiness."
   ]
  },
  {
   "cell_type": "markdown",
   "metadata": {},
   "source": [
    "####  Northern Hemisphere - Wind Speed (mph) vs. Latitude Linear Regression"
   ]
  },
  {
   "cell_type": "code",
   "execution_count": 87,
   "metadata": {},
   "outputs": [
    {
     "data": {
      "text/plain": [
       "[<matplotlib.lines.Line2D at 0x7fd730f3fb00>]"
      ]
     },
     "execution_count": 87,
     "metadata": {},
     "output_type": "execute_result"
    },
    {
     "data": {
      "image/png": "[encoded data removed]",
      "text/plain": [
       "<Figure size 432x288 with 1 Axes>"
      ]
     },
     "metadata": {
      "needs_background": "light"
     },
     "output_type": "display_data"
    }
   ],
   "source": [
    "wind_speed_data = north['Wind Speed']\n",
    "plt.scatter(x=north_hemi,y=wind_speed_data)\n",
    "\n",
    "(slope, intercept, rvalue, pvalue, stderr) = linregress(north_hemi, wind_speed_data)\n",
    "regress_values = north_hemi * slope + intercept\n",
    "line_eq = \"y = \" + str(round(slope,2)) + \"x + \" + str(round(intercept,2))\n",
    "plt.plot(north_hemi,regress_values,\"r-\")"
   ]
  },
  {
   "cell_type": "code",
   "execution_count": null,
   "metadata": {},
   "outputs": [],
   "source": [
    "# Wind speed is not typically high in the norhtern hemisphere from this illustration. "
   ]
  },
  {
   "cell_type": "markdown",
   "metadata": {},
   "source": [
    "####  Southern Hemisphere - Wind Speed (mph) vs. Latitude Linear Regression"
   ]
  },
  {
   "cell_type": "code",
   "execution_count": 88,
   "metadata": {},
   "outputs": [
    {
     "data": {
      "text/plain": [
       "[<matplotlib.lines.Line2D at 0x7fd720fee748>]"
      ]
     },
     "execution_count": 88,
     "metadata": {},
     "output_type": "execute_result"
    },
    {
     "data": {
      "image/png": "[encoded data removed]",
      "text/plain": [
       "<Figure size 432x288 with 1 Axes>"
      ]
     },
     "metadata": {
      "needs_background": "light"
     },
     "output_type": "display_data"
    }
   ],
   "source": [
    "wind_speed_data = south['Wind Speed']\n",
    "plt.scatter(x=south_hemi,y=wind_speed_data)\n",
    "\n",
    "(slope, intercept, rvalue, pvalue, stderr) = linregress(south_hemi, wind_speed_data)\n",
    "regress_values = south_hemi * slope + intercept\n",
    "line_eq = \"y = \" + str(round(slope,2)) + \"x + \" + str(round(intercept,2))\n",
    "plt.plot(south_hemi,regress_values,\"r-\")"
   ]
  },
  {
   "cell_type": "code",
   "execution_count": null,
   "metadata": {},
   "outputs": [],
   "source": [
    "# It appears that the souther hemisphere also does not experience strong wind speeds. "
   ]
  },
  {
   "cell_type": "code",
   "execution_count": null,
   "metadata": {},
   "outputs": [],
   "source": []
  }
 ],
 "metadata": {
  "anaconda-cloud": {},
  "kernel_info": {
   "name": "python3"
  },
  "kernelspec": {
   "display_name": "Python [conda env:PythonData] *",
   "language": "python",
   "name": "conda-env-PythonData-py"
  },
  "language_info": {
   "codemirror_mode": {
    "name": "ipython",
    "version": 3
   },
   "file_extension": ".py",
   "mimetype": "text/x-python",
   "name": "python",
   "nbconvert_exporter": "python",
   "pygments_lexer": "ipython3",
   "version": "3.6.10"
  },
  "latex_envs": {
   "LaTeX_envs_menu_present": true,
   "autoclose": false,
   "autocomplete": true,
   "bibliofile": "biblio.bib",
   "cite_by": "apalike",
   "current_citInitial": 1,
   "eqLabelWithNumbers": true,
   "eqNumInitial": 1,
   "hotkeys": {
    "equation": "Ctrl-E",
    "itemize": "Ctrl-I"
   },
   "labels_anchors": false,
   "latex_user_defs": false,
   "report_style_numbering": false,
   "user_envs_cfg": false
  },
  "nteract": {
   "version": "0.12.3"
  }
 },
 "nbformat": 4,
 "nbformat_minor": 2
}
